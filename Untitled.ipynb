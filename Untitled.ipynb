{
 "cells": [
  {
   "cell_type": "code",
   "execution_count": 30,
   "metadata": {},
   "outputs": [],
   "source": [
    "import requests\n",
    "import re\n",
    "from bs4 import BeautifulSoup\n",
    "import json\n",
    "import pandas as pd\n",
    "from pandas import DataFrame as df"
   ]
  },
  {
   "cell_type": "code",
   "execution_count": 2,
   "metadata": {
    "collapsed": true
   },
   "outputs": [],
   "source": [
    "page = requests.get(\"https://www.golflink.com/golf-courses/va/arlington/\")\n",
    "soup = BeautifulSoup(page.text, 'html.parser')"
   ]
  },
  {
   "cell_type": "code",
   "execution_count": 189,
   "metadata": {},
   "outputs": [
    {
     "name": "stdout",
     "output_type": "stream",
     "text": [
      "1700 Army Navy Dr, Arlington, VA 22202\n",
      "1700 Army Navy Dr, Arlington, VA 22202\n",
      "1700 Army Navy Dr, Arlington, VA 22202\n",
      "3017 N Glebe Rd, Arlington, VA 22207\n",
      "972 Ohio Dr, Washington, DC 20024\n",
      "972 Ohio Dr, Washington, DC 20024\n",
      "972 Ohio Dr, Washington, DC 20024\n",
      "6600 Little River Tpke, Alexandria, VA 22312\n",
      "6023 Fort Hunt Rd, Alexandria, VA 22307\n",
      "2600 Benning Rd, Washington, DC 20002\n",
      "6700 Telegraph Rd, Alexandria, VA 22310\n",
      "6100 16th St, Washington, DC 20011\n",
      "5601 River Rd, Bethesda, MD 20816\n",
      "6100 Connecticut Ave, Chase, MD 20815\n",
      "7900 Lee Hwy, Church, VA 22042\n",
      "1641 Tucker Rd, Washington, MD 20744\n",
      "7900 Connecticut Ave, Chase, MD 20815\n",
      "8600 Burdette Rd, Bethesda, MD 20817\n",
      "7900 Telegraph Rd, Alexandria, VA 22315\n",
      "800 Maple Ave, Vienna, VA 22180\n",
      "8500 River Rd, Bethesda, MD 20817\n",
      "8500 River Rd, Bethesda, MD 20817\n",
      "8301 Old Keene Mill Rd, Springfield, VA 22152\n",
      "10000 Oaklyn Dr, Potomac, MD 20854\n",
      "3315 Old Lee Hwy, Fairfax, VA 22030\n",
      "3315 Old Lee Hwy, Fairfax, VA 22030\n",
      "7601 Bradley Blvd, Bethesda, MD 20817\n",
      "3315 Old Lee Hwy, Fairfax, VA 22030\n",
      "8450 Beulah St, Belvoir, VA 22060\n",
      "8450 Beulah St, Belvoir, VA 22060\n",
      "\r\n",
      "                    18 holes\r\n",
      "\t\t            \r\n",
      "\t\t                over 6,654 yards \r\n",
      "\t\t            \r\n",
      "\t\t                with a par of 71\r\n",
      "                    \r\n",
      "\t\t            (Public)\r\n",
      "                    \n",
      " Write a Review\n",
      " Check Tee Times\n",
      "\n",
      "\r\n",
      "\r\n",
      "                    University of Maryland Bldg.166\r\n",
      "                    College Park, MD 20742-0001\r\n",
      "\r\n",
      "                    (301) 314-4653\r\n",
      "                    \r\n",
      "                    \n",
      "11  miles from the center of Arlington.\n",
      " Write a Review\n",
      " Check Tee Times\n",
      "\n",
      "\n",
      "5111 Old Mill Rd, Alexandria, VA 22309\n",
      "300 Saint Andrews Dr, Washington, MD 20744\n",
      "10900 Rockville Pike, Bethesda, MD 20852\n",
      "4442 W Perimeter Rd, Afb, MD 20762\n",
      "4442 W Perimeter Rd, Afb, MD 20762\n",
      "4442 W Perimeter Rd, Afb, MD 20762\n",
      "4690 University Blvd, Park, MD 20740\n",
      "3200 Jermantown Rd, Oakton, VA 22124\n",
      "5110 Ox Rd, Fairfax, VA 22030\n",
      "1201 Rockville Pike, Rockville, MD 20852\n",
      "1201 Rockville Pike, Rockville, MD 20852\n",
      "6915 Ox Rd, Station, VA 22039\n",
      "8701 Laurel Crest Dr, Lorton, VA 22079\n",
      "10301 Gunston Rd, Lorton, VA 22079\n",
      "3700 Golf Trail Ln, Fairfax, VA 22033\n",
      "375 Walker Rd, Falls, VA 22066\n",
      "2802 Enterprise Rd, Mitchellville, MD 20721\n",
      "1711 Clubhouse Rd, Reston, VA 20190\n",
      "11875 Sunrise Valley Dr, Reston, VA 20191\n",
      "14600 Argyle Club Rd, Spring, MD 20906\n",
      "13901 Glen Mill Rd, Rockville, MD 20850\n",
      "3701 Rossmoor Blvd St, Spring, MD 20906\n",
      "14901 Carrolton Rd, Rockville, MD 20853\n",
      "14901 Carrolton Rd, Rockville, MD 20853\n",
      "12320 Pleasant Prospect Rd, Mitchellville, MD 20721\n",
      "401 Belmont Bay Dr, Woodbridge, VA 22191\n",
      "13200 Lee Jackson Memorial Hwy, Fairfax, VA 22033\n",
      "14300 Old Gunpowder Rd, Laurel, MD 20707\n",
      "5801 Clifton Rd, Clifton, VA 20124\n",
      "9413 Midland Turn, Marlboro, MD 20772\n",
      "600 Bowieville Manor Ln, Marlboro, MD 20774\n",
      "12350 Cotton Mill Dr, Woodbridge, VA 22192\n",
      "909 Ferndale Ave, Herndon, VA 20170\n",
      "6201 Union Mill Rd, Clifton, VA 20124\n",
      "6201 Union Mill Rd, Clifton, VA 20124\n",
      "17200 Cashell Rd, Rockville, MD 20853\n",
      "11921 Chanceford Dr, Woodbridge, VA 22192\n",
      "3151 Presidential Golf Dr, Marlboro, MD 20774\n",
      "20391 Lowes Island Blvd, Falls, VA 20165\n",
      "20391 Lowes Island Blvd, Falls, VA 20165\n",
      "13940 Balmoral Greens Ave, Clifton, VA 20124\n",
      "7420 Laurel Bowie Rd, Bowie, MD 20715\n",
      "15700 River Rd, Germantown, MD 20874\n",
      "333 S Sterling Blvd, Sterling, VA 20164\n"
     ]
    }
   ],
   "source": [
    "## TODO: pull address from Regex\n",
    "# find distnace from apartment\n",
    "from geopy.distance import geodesic\n",
    "from geopy.geocoders import Nominatim\n",
    "\n",
    "\n",
    "class Course:\n",
    "    def __init__(self, name, num_holes, yardage, course_type, distance, address=None):\n",
    "        self.name = name\n",
    "        self.num_holes = num_holes.split(' ')[0]\n",
    "        self.yardage = yardage.split(' ')[0]\n",
    "        self.course_type = course_type\n",
    "        self.distance = distance.split(' ')[0]\n",
    "        self.address = address\n",
    "            \n",
    "    def get_address(self, geolocator):\n",
    "        states = [\"District of Columbia\", \"Virginia\", \"Maryland\"]\n",
    "        if self.address:\n",
    "            for state in states:\n",
    "                new_addr = self.address + \" \" + state\n",
    "                course_location = geolocator.geocode(new_addr)\n",
    "                if course_location:\n",
    "                    break\n",
    "            return course_location\n",
    "        else:\n",
    "            return None\n",
    "    \n",
    "    @property\n",
    "    def distance_from_home(self):\n",
    "        if self.address:\n",
    "            geolocator = Nominatim(user_agent=\"testing\")\n",
    "            home = geolocator.geocode(\"1205 Half St SE Washington, DC\")\n",
    "            course = self.get_address(geolocator)\n",
    "            if course:\n",
    "                apartment = (home.latitude, home.longitude)\n",
    "                course_addr = (course.latitude, course.longitude)\n",
    "                distance = geodesic(apartment, course_addr).miles\n",
    "                return distance\n",
    "            else:\n",
    "                return 0\n",
    "        else:\n",
    "            return 0\n",
    "    \n",
    "    def __repr__(self):\n",
    "        return f'''\n",
    "        -------------------------------------\n",
    "        {self.name}\n",
    "        -\n",
    "        {self.num_holes} holes\n",
    "        {self.yardage} yards\n",
    "        {self.course_type}\n",
    "        {str(round(self.distance_from_home, 2))} miles from home\n",
    "        '''\n",
    "        # {self.distance} miles to the center of Arlington\n",
    "        \n",
    "        \n",
    "class CourseContainer:\n",
    "    def __init__(self, name):\n",
    "        self.name = name\n",
    "        self.courses: List[Course] = []\n",
    "#         self.df = pd.DataFrame(columns=[\"Course Name\", \"# of Holes\", \"Yardage\", \"Course Type\", \"Distance\", \"Address\"])\n",
    "\n",
    "    def add(self, course: Course) -> None:\n",
    "        self.courses.append(course)\n",
    "        \n",
    "    def run(self):\n",
    "        for course in self.courses:\n",
    "            yield course\n",
    "    \n",
    "    def save(self, filename: str):\n",
    "        new_courses = []\n",
    "        for course in self.courses:\n",
    "            new_courses.append([course.name, course.num_holes, course.yardage, course.course_type, course.distance_from_home, course.address])\n",
    "        self.df = pd.DataFrame(new_courses, columns=[\"Course Name\", \"# of Holes\", \"Yardage\", \"Course Type\", \"Distance\", \"Address\"])\n",
    "        self.df.to_csv(filename, index=False, header=True)\n",
    "            \n",
    "c = CourseContainer(\"test\")\n",
    "\n",
    "courses = soup.find_all(class_ = 'resultContainer')\n",
    "for course in courses[:]:\n",
    "\n",
    "    course_name = course.h3.text\n",
    "    container = course.find(class_ = 'textcontainer')\n",
    "    \n",
    "    street_address_re = re.compile(r\"\\d+[ ](?:[A-Za-z0-9.-]+[ ]?)+(?:Avenue|Lane|Road|Boulevard|Drive|Street|Pike|Turn|Ave|Dr|Rd|Blvd|Ln|St|Tpke|Hwy)\\.?\")\n",
    "#     city_state_address_re = re.compile(r\"\\d+[ ](?:[A-Za-z0-9.-]+[ ]?)+(?:Avenue|Lane|Road|Boulevard|Drive|Street|Ave|Dr|Rd|Blvd|Ln|St)(?:.|\\n)+(?:VA|MD|DC)\\s(?:\\d{5})\")\n",
    "    city_state_address_re = re.compile(r\"[A-z]+,\\s(?:VA|MD|DC)\\s(?:\\d{5})\")\n",
    "    \n",
    "    m = re.search(r\"([18|9]\\sholes)(?:.|\\n)+(\\d,\\d{3} yards)(?:.|\\n)+(Public|Municipal|Private)(.|\\n)+(\\d{1,3}\\s+mile)\", container.text)\n",
    "    street_address = re.search(street_address_re, container.text)\n",
    "    city_state = re.search(city_state_address_re, container.text)\n",
    "    try:\n",
    "        print(street_address.group(0) + \", \" + city_state.group(0))\n",
    "    except AttributeError as e:\n",
    "        print(container.text)\n",
    "#         print(\"--- {}\".format(city_state))\n",
    "#         print(e)\n",
    "\n",
    "    if m:\n",
    "        num_holes = m.group(1)\n",
    "        yardage = m.group(2)\n",
    "        course_type = m.group(3)\n",
    "        distance = m.group(5).replace(\"  \", \" \") + \"s\"\n",
    "        if m.group(4) == \"1\":\n",
    "            distance = m.group(4) + distance\n",
    "        if address:\n",
    "            test = Course(course_name, num_holes, yardage, course_type, distance, address.group(0))\n",
    "        else:\n",
    "            test = Course(course_name, num_holes, yardage, course_type, distance)\n",
    "        c.add(test)"
   ]
  },
  {
   "cell_type": "code",
   "execution_count": 80,
   "metadata": {},
   "outputs": [
    {
     "name": "stdout",
     "output_type": "stream",
     "text": [
      "3,317\n",
      "Private\n"
     ]
    }
   ],
   "source": [
    "for course in c.run():\n",
    "    print(course.yardage)\n",
    "    print(course.course_type)\n",
    "    break"
   ]
  },
  {
   "cell_type": "code",
   "execution_count": 82,
   "metadata": {},
   "outputs": [],
   "source": [
    "c.save(\"courses_v2.csv\")"
   ]
  },
  {
   "cell_type": "code",
   "execution_count": 28,
   "metadata": {
    "collapsed": true
   },
   "outputs": [
    {
     "name": "stdout",
     "output_type": "stream",
     "text": [
      "Requirement already satisfied: geopy in ./venv/lib/python3.8/site-packages (2.0.0)\n",
      "Requirement already satisfied: geographiclib<2,>=1.49 in ./venv/lib/python3.8/site-packages (from geopy) (1.50)\n",
      "\u001b[33mWARNING: You are using pip version 20.1.1; however, version 21.1 is available.\n",
      "You should consider upgrading via the '/Users/grwills/Development/projects/golf_scraper/venv/bin/python -m pip install --upgrade pip' command.\u001b[0m\n"
     ]
    }
   ],
   "source": [
    "!pip install geopy\n",
    "import geopy"
   ]
  },
  {
   "cell_type": "code",
   "execution_count": 29,
   "metadata": {
    "collapsed": true
   },
   "outputs": [
    {
     "name": "stdout",
     "output_type": "stream",
     "text": [
      "1515, North Queen Street, Colonial Village, Arlington, Arlington County, Virginia, 22209, United States\n"
     ]
    }
   ],
   "source": [
    "from geopy.geocoders import Nominatim\n",
    "geolocator = Nominatim(user_agent=\"testing\")\n",
    "location = geolocator.geocode(\"1515 N Queen St Arlington\")\n",
    "print(location.address)"
   ]
  },
  {
   "cell_type": "code",
   "execution_count": 30,
   "metadata": {
    "collapsed": true
   },
   "outputs": [
    {
     "name": "stdout",
     "output_type": "stream",
     "text": [
      "(38.89111575440858, -77.07703275229085)\n"
     ]
    }
   ],
   "source": [
    "print((location.latitude, location.longitude))"
   ]
  },
  {
   "cell_type": "code",
   "execution_count": 31,
   "metadata": {
    "collapsed": true
   },
   "outputs": [
    {
     "name": "stdout",
     "output_type": "stream",
     "text": [
      "3109, Argent Path, Ellicott City, Howard County, Maryland, 21042, United States\n"
     ]
    }
   ],
   "source": [
    "# from geopy.distance import geodesic\n",
    "# apartment = (location.latitude, location.longitude)\n",
    "# home_addr = geolocator.geocode(\"3109 Argent Path\")\n",
    "# print(home_addr)\n",
    "# home = (home_addr.latitude, home_addr.longitude)\n",
    "# distance = geodesic(apartment, home).miles"
   ]
  },
  {
   "cell_type": "code",
   "execution_count": 153,
   "metadata": {},
   "outputs": [],
   "source": [
    "test_address = \"1641 Tucker Rd MD 20744\""
   ]
  },
  {
   "cell_type": "code",
   "execution_count": 154,
   "metadata": {},
   "outputs": [],
   "source": [
    "geolocator = Nominatim(user_agent=\"testing\")\n",
    "home = geolocator.geocode(\"1205 Half St SE Washington, DC\")\n",
    "course_location = geolocator.geocode(test_address)"
   ]
  },
  {
   "cell_type": "code",
   "execution_count": 155,
   "metadata": {},
   "outputs": [
    {
     "name": "stdout",
     "output_type": "stream",
     "text": [
      "2.16\n"
     ]
    }
   ],
   "source": [
    "if course_location:\n",
    "    distance = geodesic((course_location.longitude, course_location.latitude), (home.longitude, home.latitude)).miles\n",
    "    print(round(distance, 2))\n",
    "else:\n",
    "    print(\"Couldn't find the address for the course.\")"
   ]
  },
  {
   "cell_type": "code",
   "execution_count": null,
   "metadata": {},
   "outputs": [],
   "source": []
  }
 ],
 "metadata": {
  "kernelspec": {
   "display_name": "Python 3",
   "language": "python",
   "name": "python3"
  },
  "language_info": {
   "codemirror_mode": {
    "name": "ipython",
    "version": 3
   },
   "file_extension": ".py",
   "mimetype": "text/x-python",
   "name": "python",
   "nbconvert_exporter": "python",
   "pygments_lexer": "ipython3",
   "version": "3.6.8"
  }
 },
 "nbformat": 4,
 "nbformat_minor": 4
}
